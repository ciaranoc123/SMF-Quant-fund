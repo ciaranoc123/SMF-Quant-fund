{
 "cells": [
  {
   "cell_type": "code",
   "execution_count": 1,
   "metadata": {},
   "outputs": [],
   "source": [
    "from smf.db_engine import DbEngine\n",
    "import pandas as pd\n",
    "import numpy as np"
   ]
  },
  {
   "cell_type": "code",
   "execution_count": 2,
   "metadata": {},
   "outputs": [
    {
     "name": "stdout",
     "output_type": "stream",
     "text": [
      "-I- Successful database connection\n"
     ]
    }
   ],
   "source": [
    "db = DbEngine()"
   ]
  },
  {
   "cell_type": "code",
   "execution_count": 3,
   "metadata": {},
   "outputs": [
    {
     "ename": "TypeError",
     "evalue": "fetch_data_series() missing 1 required positional argument: 'data'",
     "output_type": "error",
     "traceback": [
      "\u001b[1;31m---------------------------------------------------------------------------\u001b[0m",
      "\u001b[1;31mTypeError\u001b[0m                                 Traceback (most recent call last)",
      "\u001b[1;32m<ipython-input-3-49b4f7f4f591>\u001b[0m in \u001b[0;36m<module>\u001b[1;34m\u001b[0m\n\u001b[1;32m----> 1\u001b[1;33m \u001b[0mdb\u001b[0m\u001b[1;33m.\u001b[0m\u001b[0mfetch_data_series\u001b[0m\u001b[1;33m(\u001b[0m\u001b[1;33m)\u001b[0m\u001b[1;33m\u001b[0m\u001b[1;33m\u001b[0m\u001b[0m\n\u001b[0m\u001b[0;32m      2\u001b[0m \u001b[0mdf\u001b[0m\u001b[1;33m.\u001b[0m\u001b[0mfetch_table\u001b[0m\u001b[1;33m(\u001b[0m\u001b[1;33m)\u001b[0m\u001b[1;33m\u001b[0m\u001b[1;33m\u001b[0m\u001b[0m\n",
      "\u001b[1;31mTypeError\u001b[0m: fetch_data_series() missing 1 required positional argument: 'data'"
     ]
    }
   ],
   "source": [
    "db.fetch_data_series()\n",
    "df.fetch_table()"
   ]
  },
  {
   "cell_type": "markdown",
   "metadata": {},
   "source": [
    "## Main Objectives\n",
    "\n",
    "- Flexible: can easily make changes to strategy\n",
    "- Easy to backtest - functions don't do a lot"
   ]
  },
  {
   "cell_type": "code",
   "execution_count": 16,
   "metadata": {},
   "outputs": [],
   "source": [
    "volatilities = pd.read_pickle(\"volatilities_as_at_2019_11_17.pkl\").set_index(\"ric\")\n",
    "close_prices = pd.read_pickle(\"close_price.pkl\")\n",
    "price_earnings = pd.read_pickle(\"price_earnings.pkl\")"
   ]
  },
  {
   "cell_type": "code",
   "execution_count": 4,
   "metadata": {},
   "outputs": [],
   "source": [
    "period_length = \"60_day_volatility\" \n",
    "volatilities_60 = volatilities[\"60_day_volatility\"]"
   ]
  },
  {
   "cell_type": "markdown",
   "metadata": {},
   "source": [
    "## The `rank` function"
   ]
  },
  {
   "cell_type": "code",
   "execution_count": 19,
   "metadata": {},
   "outputs": [
    {
     "data": {
      "text/plain": [
       "ric\n",
       "A.N         407.0\n",
       "AAL.OQ     1317.0\n",
       "AAN.N      1621.0\n",
       "AAOI.OQ    2104.0\n",
       "AAON.OQ    1036.0\n",
       "            ...  \n",
       "ZTS.N       488.0\n",
       "ZUMZ.OQ    1597.0\n",
       "ZUO.N      1275.0\n",
       "ZYNE.OQ    2241.0\n",
       "ZYXI.OQ    2173.0\n",
       "Name: 60_day_volatility, Length: 2468, dtype: float64"
      ]
     },
     "execution_count": 19,
     "metadata": {},
     "output_type": "execute_result"
    }
   ],
   "source": [
    "volatilities_60.rank()"
   ]
  },
  {
   "cell_type": "markdown",
   "metadata": {},
   "source": [
    "## Summing Ranked Series"
   ]
  },
  {
   "cell_type": "code",
   "execution_count": 13,
   "metadata": {},
   "outputs": [],
   "source": [
    "a = volatilities_60.rank().copy()\n",
    "b = volatilities_60.rank().copy()\n",
    "b = volatilities_60.rank()[np.random.permutation(len(volatilities_60))]"
   ]
  },
  {
   "cell_type": "code",
   "execution_count": 10,
   "metadata": {},
   "outputs": [
    {
     "data": {
      "text/plain": [
       "ric\n",
       "A.N         407.0\n",
       "AAL.OQ     1317.0\n",
       "AAN.N      1621.0\n",
       "AAOI.OQ    2104.0\n",
       "AAON.OQ    1036.0\n",
       "            ...  \n",
       "ZTS.N       488.0\n",
       "ZUMZ.OQ    1597.0\n",
       "ZUO.N      1275.0\n",
       "ZYNE.OQ    2241.0\n",
       "ZYXI.OQ    2173.0\n",
       "Name: 60_day_volatility, Length: 2468, dtype: float64"
      ]
     },
     "execution_count": 10,
     "metadata": {},
     "output_type": "execute_result"
    }
   ],
   "source": [
    "a"
   ]
  },
  {
   "cell_type": "code",
   "execution_count": 14,
   "metadata": {},
   "outputs": [
    {
     "data": {
      "text/plain": [
       "ric\n",
       "QRVO.OQ    1721.0\n",
       "HOLX.OQ     472.0\n",
       "GLNG.OQ    2076.0\n",
       "LCI.N      2410.0\n",
       "ACOR.OQ    2423.0\n",
       "            ...  \n",
       "FOXF.OQ    1176.0\n",
       "TNC.N       877.0\n",
       "BGG.N      2203.0\n",
       "RMTI.OQ    2167.0\n",
       "HFWA.OQ     709.0\n",
       "Name: 60_day_volatility, Length: 2468, dtype: float64"
      ]
     },
     "execution_count": 14,
     "metadata": {},
     "output_type": "execute_result"
    }
   ],
   "source": [
    "b"
   ]
  },
  {
   "cell_type": "code",
   "execution_count": 15,
   "metadata": {},
   "outputs": [
    {
     "data": {
      "text/plain": [
       "ric\n",
       "A.N         814.0\n",
       "AAL.OQ     2634.0\n",
       "AAN.N      3242.0\n",
       "AAOI.OQ    4208.0\n",
       "AAON.OQ    2072.0\n",
       "            ...  \n",
       "ZTS.N       976.0\n",
       "ZUMZ.OQ    3194.0\n",
       "ZUO.N      2550.0\n",
       "ZYNE.OQ    4482.0\n",
       "ZYXI.OQ    4346.0\n",
       "Name: 60_day_volatility, Length: 2468, dtype: float64"
      ]
     },
     "execution_count": 15,
     "metadata": {},
     "output_type": "execute_result"
    }
   ],
   "source": [
    "a + b"
   ]
  },
  {
   "cell_type": "markdown",
   "metadata": {},
   "source": [
    "## Calculating Points"
   ]
  },
  {
   "cell_type": "code",
   "execution_count": 25,
   "metadata": {},
   "outputs": [
    {
     "data": {
      "text/plain": [
       "5.0"
      ]
     },
     "execution_count": 25,
     "metadata": {},
     "output_type": "execute_result"
    }
   ],
   "source": [
    "def rank_to_points(rank):\n",
    "    return 5 - 0.2*((rank-1) // 100)\n",
    "rank_to_points(100)"
   ]
  },
  {
   "cell_type": "code",
   "execution_count": 26,
   "metadata": {},
   "outputs": [],
   "source": [
    "def score(series):\n",
    "    return series.rank().apply(rank_to_points)"
   ]
  },
  {
   "cell_type": "markdown",
   "metadata": {},
   "source": [
    "## Putting it all together\n",
    "\n",
    "1. Fetch data\n",
    "2. Convert to table with stocks in columns, dates in rows, factor in question in table\n",
    "3. score using functions\n",
    "4. sum\n",
    "5. get n smallest"
   ]
  },
  {
   "cell_type": "markdown",
   "metadata": {},
   "source": [
    "```\n",
    "def score_value(pe, pb, pfcf, eebitda):\n",
    "    parameters are Series\n",
    "    return scored_by_value (series)\n",
    "\n",
    "def retrieve_and_rank():\n",
    "\n",
    "    # fetch raw data\n",
    "    closing_prices = db.fetch ...\n",
    "    volatilities = db.fetch ...\n",
    "    price_earnings = db.fetch ...\n",
    "    .\n",
    "    .\n",
    "    .\n",
    "    # calculate factors\n",
    "    momentum_df = \n",
    "    \n",
    "    date = \n",
    "    momentum_score = score(momentum_df.loc[date])\n",
    "    volatility = score(volatilities.loc[date])\n",
    "    value_score = score_value(pe.loc[date], pb, pfcf, eebitda)\n",
    "    \n",
    "    combined_score = momentum_score + volatility + value_score\n",
    "    return combined_score.nlargest(30)\n",
    "``` "
   ]
  },
  {
   "cell_type": "markdown",
   "metadata": {},
   "source": [
    "Ideas for improvements?\n",
    "\n",
    "- How to deal with NaN values?"
   ]
  },
  {
   "cell_type": "code",
   "execution_count": null,
   "metadata": {},
   "outputs": [],
   "source": []
  }
 ],
 "metadata": {
  "kernelspec": {
   "display_name": "Python 3 (ipykernel)",
   "language": "python",
   "name": "python3"
  },
  "language_info": {
   "codemirror_mode": {
    "name": "ipython",
    "version": 3
   },
   "file_extension": ".py",
   "mimetype": "text/x-python",
   "name": "python",
   "nbconvert_exporter": "python",
   "pygments_lexer": "ipython3",
   "version": "3.9.7"
  }
 },
 "nbformat": 4,
 "nbformat_minor": 2
}
